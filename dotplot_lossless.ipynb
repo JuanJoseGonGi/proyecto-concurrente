{
 "cells": [
  {
   "cell_type": "code",
   "execution_count": 1,
   "metadata": {},
   "outputs": [],
   "source": [
    "import multiprocessing as mp\n",
    "from Bio import SeqIO\n",
    "import numpy as np\n",
    "import matplotlib.pyplot as plt"
   ]
  },
  {
   "cell_type": "code",
   "execution_count": 2,
   "metadata": {},
   "outputs": [],
   "source": [
    "e_coli_file = \"./archivosParaDotplot/E_coli.fna\"\n",
    "salmonella_file = \"./archivosParaDotplot/Salmonella.fna\""
   ]
  },
  {
   "cell_type": "code",
   "execution_count": 3,
   "metadata": {},
   "outputs": [],
   "source": [
    "def sequence_portions_from_fasta(file_path):\n",
    "    num_processes = mp.cpu_count()\n",
    "    sequence_portions = []\n",
    "    for record in SeqIO.parse(file_path, \"fasta\"):\n",
    "        sequence_portions += np.array_split(list(record.seq), num_processes)\n",
    "    return sequence_portions"
   ]
  },
  {
   "cell_type": "code",
   "execution_count": 4,
   "metadata": {},
   "outputs": [],
   "source": [
    "def sequence_str_to_uint8(sequence):\n",
    "    return np.frombuffer(sequence.encode(), dtype=np.uint8)"
   ]
  },
  {
   "cell_type": "code",
   "execution_count": 5,
   "metadata": {},
   "outputs": [],
   "source": [
    "e_coli_sequence_portions = sequence_portions_from_fasta(e_coli_file)"
   ]
  },
  {
   "cell_type": "code",
   "execution_count": 6,
   "metadata": {},
   "outputs": [],
   "source": [
    "# Función que llena una porción de la matriz\n",
    "def fill_matrix_portion(seq1_portion, seq2_file, output_file_name):\n",
    "    output_file = open(output_file_name, \"w\")\n",
    "    for s1 in seq1_portion:\n",
    "        for record in SeqIO.parse(seq2_file, \"fasta\"):\n",
    "            for s2 in record.seq:\n",
    "                output_file.write(f\"{int(s1 == s2)} \")\n",
    "        output_file.write(\"\\n\")\n",
    "    output_file.close()"
   ]
  },
  {
   "cell_type": "code",
   "execution_count": 27,
   "metadata": {},
   "outputs": [
    {
     "ename": "KeyboardInterrupt",
     "evalue": "",
     "output_type": "error",
     "traceback": [
      "\u001b[0;31m---------------------------------------------------------------------------\u001b[0m",
      "\u001b[0;31mKeyboardInterrupt\u001b[0m                         Traceback (most recent call last)",
      "Cell \u001b[0;32mIn[27], line 13\u001b[0m\n\u001b[1;32m     10\u001b[0m     process\u001b[39m.\u001b[39mstart()\n\u001b[1;32m     12\u001b[0m \u001b[39mfor\u001b[39;00m process \u001b[39min\u001b[39;00m processes:\n\u001b[0;32m---> 13\u001b[0m     process\u001b[39m.\u001b[39;49mjoin()\n",
      "File \u001b[0;32m/usr/lib/python3.10/multiprocessing/process.py:149\u001b[0m, in \u001b[0;36mBaseProcess.join\u001b[0;34m(self, timeout)\u001b[0m\n\u001b[1;32m    147\u001b[0m \u001b[39massert\u001b[39;00m \u001b[39mself\u001b[39m\u001b[39m.\u001b[39m_parent_pid \u001b[39m==\u001b[39m os\u001b[39m.\u001b[39mgetpid(), \u001b[39m'\u001b[39m\u001b[39mcan only join a child process\u001b[39m\u001b[39m'\u001b[39m\n\u001b[1;32m    148\u001b[0m \u001b[39massert\u001b[39;00m \u001b[39mself\u001b[39m\u001b[39m.\u001b[39m_popen \u001b[39mis\u001b[39;00m \u001b[39mnot\u001b[39;00m \u001b[39mNone\u001b[39;00m, \u001b[39m'\u001b[39m\u001b[39mcan only join a started process\u001b[39m\u001b[39m'\u001b[39m\n\u001b[0;32m--> 149\u001b[0m res \u001b[39m=\u001b[39m \u001b[39mself\u001b[39;49m\u001b[39m.\u001b[39;49m_popen\u001b[39m.\u001b[39;49mwait(timeout)\n\u001b[1;32m    150\u001b[0m \u001b[39mif\u001b[39;00m res \u001b[39mis\u001b[39;00m \u001b[39mnot\u001b[39;00m \u001b[39mNone\u001b[39;00m:\n\u001b[1;32m    151\u001b[0m     _children\u001b[39m.\u001b[39mdiscard(\u001b[39mself\u001b[39m)\n",
      "File \u001b[0;32m/usr/lib/python3.10/multiprocessing/popen_fork.py:43\u001b[0m, in \u001b[0;36mPopen.wait\u001b[0;34m(self, timeout)\u001b[0m\n\u001b[1;32m     41\u001b[0m             \u001b[39mreturn\u001b[39;00m \u001b[39mNone\u001b[39;00m\n\u001b[1;32m     42\u001b[0m     \u001b[39m# This shouldn't block if wait() returned successfully.\u001b[39;00m\n\u001b[0;32m---> 43\u001b[0m     \u001b[39mreturn\u001b[39;00m \u001b[39mself\u001b[39;49m\u001b[39m.\u001b[39;49mpoll(os\u001b[39m.\u001b[39;49mWNOHANG \u001b[39mif\u001b[39;49;00m timeout \u001b[39m==\u001b[39;49m \u001b[39m0.0\u001b[39;49m \u001b[39melse\u001b[39;49;00m \u001b[39m0\u001b[39;49m)\n\u001b[1;32m     44\u001b[0m \u001b[39mreturn\u001b[39;00m \u001b[39mself\u001b[39m\u001b[39m.\u001b[39mreturncode\n",
      "File \u001b[0;32m/usr/lib/python3.10/multiprocessing/popen_fork.py:27\u001b[0m, in \u001b[0;36mPopen.poll\u001b[0;34m(self, flag)\u001b[0m\n\u001b[1;32m     25\u001b[0m \u001b[39mif\u001b[39;00m \u001b[39mself\u001b[39m\u001b[39m.\u001b[39mreturncode \u001b[39mis\u001b[39;00m \u001b[39mNone\u001b[39;00m:\n\u001b[1;32m     26\u001b[0m     \u001b[39mtry\u001b[39;00m:\n\u001b[0;32m---> 27\u001b[0m         pid, sts \u001b[39m=\u001b[39m os\u001b[39m.\u001b[39;49mwaitpid(\u001b[39mself\u001b[39;49m\u001b[39m.\u001b[39;49mpid, flag)\n\u001b[1;32m     28\u001b[0m     \u001b[39mexcept\u001b[39;00m \u001b[39mOSError\u001b[39;00m:\n\u001b[1;32m     29\u001b[0m         \u001b[39m# Child process not yet created. See #1731717\u001b[39;00m\n\u001b[1;32m     30\u001b[0m         \u001b[39m# e.errno == errno.ECHILD == 10\u001b[39;00m\n\u001b[1;32m     31\u001b[0m         \u001b[39mreturn\u001b[39;00m \u001b[39mNone\u001b[39;00m\n",
      "\u001b[0;31mKeyboardInterrupt\u001b[0m: "
     ]
    }
   ],
   "source": [
    "# Crea y lanza los procesos\n",
    "processes = []\n",
    "for i, e_coli_sequence_portion in enumerate(e_coli_sequence_portions):\n",
    "    output_file_name = f\"outputs/output_{i}.txt\"\n",
    "    process = mp.Process(\n",
    "        target=fill_matrix_portion,\n",
    "        args=(e_coli_sequence_portion, salmonella_file, output_file_name),\n",
    "    )\n",
    "    processes.append(process)\n",
    "    process.start()\n",
    "\n",
    "for process in processes:\n",
    "    process.join()"
   ]
  },
  {
   "cell_type": "code",
   "execution_count": 10,
   "metadata": {},
   "outputs": [
    {
     "ename": "KeyboardInterrupt",
     "evalue": "",
     "output_type": "error",
     "traceback": [
      "\u001b[0;31m---------------------------------------------------------------------------\u001b[0m",
      "\u001b[0;31mKeyboardInterrupt\u001b[0m                         Traceback (most recent call last)",
      "Cell \u001b[0;32mIn[10], line 18\u001b[0m\n\u001b[1;32m     16\u001b[0m matrix \u001b[39m=\u001b[39m []\n\u001b[1;32m     17\u001b[0m \u001b[39mfor\u001b[39;00m line \u001b[39min\u001b[39;00m f:\n\u001b[0;32m---> 18\u001b[0m     row \u001b[39m=\u001b[39m [\u001b[39mint\u001b[39m(cell) \u001b[39mfor\u001b[39;00m cell \u001b[39min\u001b[39;00m line\u001b[39m.\u001b[39mstrip()\u001b[39m.\u001b[39msplit()]\n\u001b[1;32m     19\u001b[0m     matrix\u001b[39m.\u001b[39mappend(row)\n\u001b[1;32m     20\u001b[0m matrices\u001b[39m.\u001b[39mappend(matrix)\n",
      "Cell \u001b[0;32mIn[10], line 18\u001b[0m, in \u001b[0;36m<listcomp>\u001b[0;34m(.0)\u001b[0m\n\u001b[1;32m     16\u001b[0m matrix \u001b[39m=\u001b[39m []\n\u001b[1;32m     17\u001b[0m \u001b[39mfor\u001b[39;00m line \u001b[39min\u001b[39;00m f:\n\u001b[0;32m---> 18\u001b[0m     row \u001b[39m=\u001b[39m [\u001b[39mint\u001b[39;49m(cell) \u001b[39mfor\u001b[39;00m cell \u001b[39min\u001b[39;00m line\u001b[39m.\u001b[39mstrip()\u001b[39m.\u001b[39msplit()]\n\u001b[1;32m     19\u001b[0m     matrix\u001b[39m.\u001b[39mappend(row)\n\u001b[1;32m     20\u001b[0m matrices\u001b[39m.\u001b[39mappend(matrix)\n",
      "\u001b[0;31mKeyboardInterrupt\u001b[0m: "
     ]
    }
   ],
   "source": [
    "import matplotlib.pyplot as plt\n",
    "import os\n",
    "import numpy as np\n",
    "\n",
    "# Determina la cantidad de archivos de salida generados por el código anterior\n",
    "num_processes = mp.cpu_count()\n",
    "\n",
    "# Crea una lista vacía para almacenar las matrices de cada proceso\n",
    "matrices = []\n",
    "\n",
    "# Lee cada archivo de salida y añade su contenido a la lista de matrices\n",
    "for i in range(num_processes):\n",
    "    output_file_name = f\"outputs/output_{i}.txt\"\n",
    "    if os.path.exists(output_file_name):\n",
    "        with open(output_file_name, \"r\") as f:\n",
    "            matrix = []\n",
    "            for line in f:\n",
    "                row = [int(cell) for cell in line.strip().split()]\n",
    "                matrix.append(row)\n",
    "            matrices.append(matrix)\n",
    "\n",
    "# Une las matrices en una sola\n",
    "matrix = np.concatenate(matrices)\n",
    "\n",
    "# Dibuja el dotplot\n",
    "plt.imshow(matrix, cmap=\"Greys\", interpolation=\"nearest\")\n",
    "plt.show()"
   ]
  }
 ],
 "metadata": {
  "kernelspec": {
   "display_name": ".env",
   "language": "python",
   "name": "python3"
  },
  "language_info": {
   "codemirror_mode": {
    "name": "ipython",
    "version": 3
   },
   "file_extension": ".py",
   "mimetype": "text/x-python",
   "name": "python",
   "nbconvert_exporter": "python",
   "pygments_lexer": "ipython3",
   "version": "3.10.7"
  },
  "orig_nbformat": 4
 },
 "nbformat": 4,
 "nbformat_minor": 2
}
